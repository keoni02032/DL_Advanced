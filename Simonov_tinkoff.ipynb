{
  "nbformat": 4,
  "nbformat_minor": 0,
  "metadata": {
    "colab": {
      "provenance": []
    },
    "kernelspec": {
      "name": "python3",
      "display_name": "Python 3"
    },
    "language_info": {
      "name": "python"
    },
    "accelerator": "GPU",
    "gpuClass": "standard"
  },
  "cells": [
    {
      "cell_type": "code",
      "execution_count": null,
      "metadata": {
        "id": "N-SDrPRCafG7"
      },
      "outputs": [],
      "source": [
        "import torch\n",
        "import cv2\n",
        "import pandas as pd\n",
        "import numpy as np\n",
        "from matplotlib import pyplot as plt\n",
        "import torchvision\n",
        "import os\n",
        "from torch import nn\n",
        "from torch.optim import lr_scheduler\n",
        "from tqdm import tqdm\n",
        "import torch.optim as optim\n",
        "import torchvision.transforms as transforms\n",
        "import PIL\n",
        "from albumentations import Compose, HorizontalFlip, RandomContrast, Crop, RandomBrightnessContrast, RandomCrop, Flip, RandomSizedCrop, OneOf, PadIfNeeded, Normalize, Resize, RandomCrop"
      ]
    },
    {
      "cell_type": "markdown",
      "source": [
        "## Определение вычислительного устройства"
      ],
      "metadata": {
        "id": "9nLfT1ei5POM"
      }
    },
    {
      "cell_type": "code",
      "source": [
        "device = torch.device('cuda') if torch.cuda.is_available() else torch.device('cpu')"
      ],
      "metadata": {
        "id": "Khyv30F_-Q1U"
      },
      "execution_count": null,
      "outputs": []
    },
    {
      "cell_type": "markdown",
      "source": [
        "## Подключения диска с данными"
      ],
      "metadata": {
        "id": "gl1He5Yk5Z_f"
      }
    },
    {
      "cell_type": "code",
      "source": [
        "from google.colab import drive\n",
        "drive.mount('/content/drive')"
      ],
      "metadata": {
        "colab": {
          "base_uri": "https://localhost:8080/"
        },
        "id": "yhV0glk5nUB9",
        "outputId": "ee8a0d8c-a630-48f5-9fc0-05e832a0a9dc"
      },
      "execution_count": null,
      "outputs": [
        {
          "output_type": "stream",
          "name": "stdout",
          "text": [
            "Mounted at /content/drive\n"
          ]
        }
      ]
    },
    {
      "cell_type": "code",
      "source": [
        "!pip install torchmetrics"
      ],
      "metadata": {
        "colab": {
          "base_uri": "https://localhost:8080/"
        },
        "id": "eM-i0sgLGAXP",
        "outputId": "7c27c365-1a5c-4c9d-9839-5933a8746dc8"
      },
      "execution_count": null,
      "outputs": [
        {
          "output_type": "stream",
          "name": "stdout",
          "text": [
            "Looking in indexes: https://pypi.org/simple, https://us-python.pkg.dev/colab-wheels/public/simple/\n",
            "Collecting torchmetrics\n",
            "  Downloading torchmetrics-0.11.0-py3-none-any.whl (512 kB)\n",
            "\u001b[2K     \u001b[90m━━━━━━━━━━━━━━━━━━━━━━━━━━━━━━━━━━━━━━\u001b[0m \u001b[32m512.4/512.4 KB\u001b[0m \u001b[31m37.9 MB/s\u001b[0m eta \u001b[36m0:00:00\u001b[0m\n",
            "\u001b[?25hRequirement already satisfied: typing-extensions in /usr/local/lib/python3.8/dist-packages (from torchmetrics) (4.4.0)\n",
            "Requirement already satisfied: torch>=1.8.1 in /usr/local/lib/python3.8/dist-packages (from torchmetrics) (1.13.0+cu116)\n",
            "Requirement already satisfied: packaging in /usr/local/lib/python3.8/dist-packages (from torchmetrics) (21.3)\n",
            "Requirement already satisfied: numpy>=1.17.2 in /usr/local/lib/python3.8/dist-packages (from torchmetrics) (1.21.6)\n",
            "Requirement already satisfied: pyparsing!=3.0.5,>=2.0.2 in /usr/local/lib/python3.8/dist-packages (from packaging->torchmetrics) (3.0.9)\n",
            "Installing collected packages: torchmetrics\n",
            "Successfully installed torchmetrics-0.11.0\n"
          ]
        }
      ]
    },
    {
      "cell_type": "code",
      "source": [
        "!nvidia-smi"
      ],
      "metadata": {
        "colab": {
          "base_uri": "https://localhost:8080/"
        },
        "id": "dQ6oLgey_1am",
        "outputId": "68c18535-2c15-46f1-913d-9232398f6e7b"
      },
      "execution_count": null,
      "outputs": [
        {
          "output_type": "stream",
          "name": "stdout",
          "text": [
            "Sat Jan  7 19:03:40 2023       \n",
            "+-----------------------------------------------------------------------------+\n",
            "| NVIDIA-SMI 460.32.03    Driver Version: 460.32.03    CUDA Version: 11.2     |\n",
            "|-------------------------------+----------------------+----------------------+\n",
            "| GPU  Name        Persistence-M| Bus-Id        Disp.A | Volatile Uncorr. ECC |\n",
            "| Fan  Temp  Perf  Pwr:Usage/Cap|         Memory-Usage | GPU-Util  Compute M. |\n",
            "|                               |                      |               MIG M. |\n",
            "|===============================+======================+======================|\n",
            "|   0  Tesla T4            Off  | 00000000:00:04.0 Off |                    0 |\n",
            "| N/A   53C    P0    29W /  70W |      3MiB / 15109MiB |      0%      Default |\n",
            "|                               |                      |                  N/A |\n",
            "+-------------------------------+----------------------+----------------------+\n",
            "                                                                               \n",
            "+-----------------------------------------------------------------------------+\n",
            "| Processes:                                                                  |\n",
            "|  GPU   GI   CI        PID   Type   Process name                  GPU Memory |\n",
            "|        ID   ID                                                   Usage      |\n",
            "|=============================================================================|\n",
            "|  No running processes found                                                 |\n",
            "+-----------------------------------------------------------------------------+\n"
          ]
        }
      ]
    },
    {
      "cell_type": "markdown",
      "source": [
        "## Распаковка данных"
      ],
      "metadata": {
        "id": "xrxUgU9D5gZV"
      }
    },
    {
      "cell_type": "code",
      "source": [
        "# !unzip /content/drive/MyDrive/nubers/CCPD2019-dl1.zip"
      ],
      "metadata": {
        "id": "vDudNEphaznb"
      },
      "execution_count": null,
      "outputs": []
    },
    {
      "cell_type": "markdown",
      "source": [
        "## Создание модели"
      ],
      "metadata": {
        "id": "qZZd38ak5kTm"
      }
    },
    {
      "cell_type": "code",
      "source": [
        "class Model(nn.Module):\n",
        "    def __init__(self):\n",
        "        super(Model, self).__init__()\n",
        "        self.in_fea = 0\n",
        "        self.conv1 = nn.Sequential(\n",
        "            nn.Conv2d(3, 7, kernel_size=3, stride=1, padding=1, bias=False),\n",
        "            nn.BatchNorm2d(7),\n",
        "            nn.ReLU(inplace=True))\n",
        "        self.maxpool1 = nn.MaxPool2d(kernel_size=2)\n",
        "        self.conv2 = nn.Sequential(\n",
        "            nn.Conv2d(7, 7, kernel_size=3, stride=1, padding=1, bias=False),\n",
        "            nn.BatchNorm2d(7),\n",
        "            nn.ReLU(inplace=True))\n",
        "        self.maxpool2 = nn.MaxPool2d(kernel_size=2)\n",
        "        self.fc1 = nn.Sequential(\n",
        "            nn.Linear(512, 32),\n",
        "            nn.ReLU(inplace=True))\n",
        "        self.gru1 = nn.GRU(32, 512)\n",
        "        self.gru1_b = nn.GRU(32, 512)\n",
        "        self.gru2 = nn.GRU(512, 512)\n",
        "        self.gru2_b = nn.GRU(512, 512)\n",
        "        self.fc2 = nn.Sequential(\n",
        "            nn.Linear(1024, 66),\n",
        "            nn.ReLU(inplace=True))\n",
        "        for m in self.modules():\n",
        "            if isinstance(m, nn.Conv2d):\n",
        "                nn.init.kaiming_normal_(m.weight, mode=\"fan_out\", nonlinearity=\"relu\")\n",
        "            elif isinstance(m, (nn.BatchNorm2d, nn.GroupNorm)):\n",
        "                nn.init.constant_(m.weight, 1)\n",
        "                nn.init.constant_(m.bias, 0)\n",
        "\n",
        "    def forward(self, x):\n",
        "        x = self.conv1(x)\n",
        "        x = self.maxpool1(x)\n",
        "        x = self.conv2(x)\n",
        "        x = self.maxpool2(x)\n",
        "        self.in_fea = x.size(2) * x.size(3)\n",
        "        x = torch.reshape(x, (x.size(0), 7, 512))\n",
        "        x = self.fc1(x)\n",
        "        x_1, h_1 = self.gru1(x)\n",
        "        x_2, h_2 = self.gru1_b(x)\n",
        "        x = x_1 + x_2\n",
        "        x_1, h_1 = self.gru2(x)\n",
        "        x_2, h_2 = self.gru2_b(x)\n",
        "        x = torch.cat((x_1, x_2), 2)\n",
        "        x = self.fc2(x)\n",
        "        return x"
      ],
      "metadata": {
        "id": "PT5Z40rPySMy"
      },
      "execution_count": null,
      "outputs": []
    },
    {
      "cell_type": "markdown",
      "source": [
        "## Создание класса для формирования кастомного датасета, объявление функции для создания даталоадера"
      ],
      "metadata": {
        "id": "_QkDxGtm5pOe"
      }
    },
    {
      "cell_type": "code",
      "source": [
        "class MyDataset(torch.utils.data.Dataset):\n",
        "    def __init__(self, work_dir:str, state:bool, transform=None):\n",
        "        self.work_dir = work_dir\n",
        "        # self.tta = tta\n",
        "        self.state = state\n",
        "        self.transform = transform\n",
        "        self.policies = transforms.AutoAugmentPolicy.CIFAR10\n",
        "        self.conv = transforms.Compose([transforms.AutoAugment(self.policies)])\n",
        "        self.data = self.parsing_data()\n",
        "\n",
        "    def parsing_data(self):\n",
        "        list_data = os.listdir(self.work_dir)\n",
        "        result_dataframe = list()\n",
        "        for i, image in enumerate(list_data):\n",
        "            image = image.split('-')[1].split('.')\n",
        "            result_dataframe.append([f'{self.work_dir}/{list_data[i]}', image[0]])\n",
        "        return pd.DataFrame(result_dataframe, columns=[0, 1])\n",
        "\n",
        "    def __len__(self):\n",
        "        return len(self.data)\n",
        "\n",
        "    def __getitem__(self, idx:int):\n",
        "        if self.state:\n",
        "            image = cv2.imread(self.data.iloc[idx, 0])\n",
        "            image = cv2.cvtColor(image, cv2.COLOR_BGR2RGB)\n",
        "        else:\n",
        "            image = PIL.Image.open(self.data.iloc[idx, 0]).convert('RGB')\n",
        "        label = self.data.iloc[idx, 1]\n",
        "        if self.transform:\n",
        "            if not self.state:\n",
        "                image = self.conv(image)\n",
        "                image = np.array(image)\n",
        "            transforming = self.transform(image=image)\n",
        "            image = transforming[\"image\"]\n",
        "        image = torchvision.transforms.functional.to_tensor(image)\n",
        "        return image, label\n",
        "\n",
        "def CreateDataloader(data_type:str, transforms, shuffle:bool, state:bool):\n",
        "    work_dir = f'./CCPD2019-dl1/{data_type}'\n",
        "    dataset = MyDataset(work_dir, state, transforms)\n",
        "    dataloader = torch.utils.data.DataLoader(dataset, batch_size=256, shuffle=shuffle, num_workers=2, pin_memory=True)\n",
        "    data_size = len(dataset)\n",
        "    return dataloader, data_size"
      ],
      "metadata": {
        "id": "FVwhfllXbn-i"
      },
      "execution_count": null,
      "outputs": []
    },
    {
      "cell_type": "markdown",
      "source": [
        "## Немного некрасивого кода для получения словараей со всеми символами из лэйблов и соответствующими им порядковыми номерами"
      ],
      "metadata": {
        "id": "sB09EowM6B_N"
      }
    },
    {
      "cell_type": "code",
      "source": [
        "work_dir = '/content/CCPD2019-dl1/train'\n",
        "d = {}\n",
        "inv_d = {}\n",
        "list_data = os.listdir(work_dir)\n",
        "for i, image in enumerate(list_data):\n",
        "    image = image.split('-')[1].split('.')\n",
        "    if len(image[0]) != 7:\n",
        "        print(image[0])\n",
        "    for sumbul in image[0]:\n",
        "        if sumbul not in d:\n",
        "            inv_d[len(d)] = sumbul\n",
        "            d[sumbul] = len(d)"
      ],
      "metadata": {
        "id": "6iwnMrEzuKS8"
      },
      "execution_count": null,
      "outputs": []
    },
    {
      "cell_type": "markdown",
      "source": [
        "## Функция конвертирования символьного лэйбла в числовой"
      ],
      "metadata": {
        "id": "WxJ6FsjE6Tm8"
      }
    },
    {
      "cell_type": "code",
      "source": [
        "def ConverLabelToNum(d:dict, lbl:torch.Tensor):\n",
        "    res = list()\n",
        "    for iteration in lbl:\n",
        "        tmp = list()\n",
        "        for sumbul in iteration:\n",
        "            tmp.append(d[sumbul])\n",
        "        res.append(tmp)\n",
        "    return torch.tensor(res)"
      ],
      "metadata": {
        "id": "WkP58RdZuKWZ"
      },
      "execution_count": null,
      "outputs": []
    },
    {
      "cell_type": "markdown",
      "source": [
        "## Объявление базовых аугментаций"
      ],
      "metadata": {
        "id": "Q1HJlRZ86by1"
      }
    },
    {
      "cell_type": "code",
      "source": [
        "tr = Compose([Resize(64, 128, p=1.0),\n",
        "        Normalize(mean=(0.485, 0.456, 0.406), std=(0.229, 0.224, 0.225), max_pixel_value=255.0, always_apply=False, p=1.0)])"
      ],
      "metadata": {
        "id": "csghYkNW92OK"
      },
      "execution_count": null,
      "outputs": []
    },
    {
      "cell_type": "markdown",
      "source": [
        "## Фиксирование рандомов для воспроизводимости результатов экспериментов"
      ],
      "metadata": {
        "id": "Atx1VM3h6ixb"
      }
    },
    {
      "cell_type": "code",
      "source": [
        "import random\n",
        "\n",
        "def set_seed(seed:int=1):\n",
        "    np.random.seed(seed)\n",
        "    random.seed(seed)\n",
        "    torch.manual_seed(seed)\n",
        "    torch.cuda.manual_seed(seed)\n",
        "    torch.cuda.manual_seed_all(seed)\n",
        "    torch.backends.cudnn.deterministic = True\n",
        "    torch.backends.cudnn.benchmark = False\n",
        "set_seed()"
      ],
      "metadata": {
        "id": "KGY26vLPIeHJ"
      },
      "execution_count": null,
      "outputs": []
    },
    {
      "cell_type": "markdown",
      "source": [
        "## Объявление функций для подсчета метрик при обучении и валидации "
      ],
      "metadata": {
        "id": "0UmAJrzaNjKF"
      }
    },
    {
      "cell_type": "code",
      "source": [
        "from torchmetrics import CharErrorRate\n",
        "\n",
        "\n",
        "def accuracy(preds:torch.Tensor, label:torch.Tensor):\n",
        "    result = 0\n",
        "    for i in range(len(preds)):\n",
        "        count = 0\n",
        "        for j in range(len(preds[i])):\n",
        "            if preds[i][j] == label[i][j]:\n",
        "                count += 1\n",
        "            if count == 7:\n",
        "                result += 1\n",
        "    return result\n",
        "\n",
        "def CER(inv_d:dict, lbl:torch.Tensor, preds:torch.Tensor, metric):\n",
        "    preds = preds.cpu().detach().numpy()\n",
        "    result_preds, result_lbl = list(), list()\n",
        "    for i in range(len(preds)):\n",
        "        tmp_preds, tmp_lbl = '', ''\n",
        "        for j in range(len(preds[i])):\n",
        "            tmp_preds += inv_d[preds[i][j]]\n",
        "            tmp_lbl += lbl[i][j]\n",
        "        result_preds.append(tmp)\n",
        "        result_lbl.append(t)\n",
        "    return metric(result_preds, result_lbl)"
      ],
      "metadata": {
        "id": "m--ZBMcCFN_p"
      },
      "execution_count": null,
      "outputs": []
    },
    {
      "cell_type": "markdown",
      "source": [
        "## Функция тренировки модели"
      ],
      "metadata": {
        "id": "tJmFpvEr60XL"
      }
    },
    {
      "cell_type": "code",
      "source": [
        "def model_train(label_smoothing:float=1e-5, weight_decay:float=1e-5, num_epochs:int=25):\n",
        "    dataloader_test, data_test_size = CreateDataloader(data_type='test', transforms=tr, shuffle=False, state=True)\n",
        "    dataloader_train, data_train_size = CreateDataloader(data_type='train', transforms=tr, shuffle=True, state=False) # train\n",
        "    model = Model()\n",
        "\n",
        "    optimizer = optim.AdamW(model.parameters(), lr=0.001, weight_decay=weight_decay)\n",
        "    scheduler = lr_scheduler.ReduceLROnPlateau(optimizer, 'min', factor=0.5)\n",
        "    model.to(device)\n",
        "    metric = CharErrorRate()\n",
        "    criterion = nn.CrossEntropyLoss(label_smoothing=label_smoothing)\n",
        "\n",
        "    for ep in range(num_epochs):\n",
        "        running_loss = 0.0\n",
        "        running_corrects = 0\n",
        "        running = 0\n",
        "        loss = 0.0\n",
        "        err = 0\n",
        "        model.train()\n",
        "        for img, lbl in tqdm(dataloader_train):\n",
        "            img = img.to(device, non_blocking=True)\n",
        "            optimizer.zero_grad()\n",
        "            out = model(img)\n",
        "            lbl_convert = ConverLabelToNum(d, lbl).to(device, non_blocking=True)\n",
        "            _, preds = torch.max(out, 2)\n",
        "            for out_iter, lbl_iter in zip(out, lbl_convert):\n",
        "                loss += criterion(out_iter, lbl_iter)\n",
        "            loss.backward()\n",
        "            optimizer.step()\n",
        "            running_loss += loss * out.size(1)\n",
        "            loss = 0.0\n",
        "            running_corrects += accuracy(preds, lbl_convert.data)\n",
        "            running += torch.sum(preds == lbl_convert.data)\n",
        "            err += CER(inv_d, lbl, preds, metric)\n",
        "        epoch_loss = running_loss / (data_train_size * out.size(1))\n",
        "        epoch_acc = running_corrects / (data_train_size * out.size(1))\n",
        "        print(f'Epoch {ep + 1} train: loss: {epoch_loss},  char_acc: {running / (data_train_size * out.size(1))}, accuracy: {epoch_acc}, CER: {err / data_train_size}')\n",
        "        running_loss = 0.0\n",
        "        running_corrects = 0\n",
        "        running = 0\n",
        "        loss = 0.0\n",
        "        err = 0\n",
        "        model.eval()\n",
        "        with torch.no_grad():\n",
        "            for img, lbl in tqdm(dataloader_test):\n",
        "                img = img.to(device, non_blocking=True)\n",
        "                optimizer.zero_grad()\n",
        "                out = model(img)\n",
        "                lbl_convert = ConverLabelToNum(d, lbl).to(device, non_blocking=True)\n",
        "                _, preds = torch.max(out, 2)\n",
        "                for out_iter, lbl_iter in zip(out, lbl_convert):\n",
        "                    loss += criterion(out_iter, lbl_iter)\n",
        "                running_loss += loss * out.size(1)\n",
        "                loss = 0.0\n",
        "                running_corrects += accuracy(preds, lbl_convert.data)\n",
        "                running += torch.sum(preds == lbl_convert.data)\n",
        "                err += CER(inv_d, lbl, preds, metric)\n",
        "            epoch_loss = running_loss / (data_test_size * out.size(1))\n",
        "            epoch_acc = running_corrects / (data_test_size * out.size(1))\n",
        "            print(f'Epoch {ep + 1} val: loss: {epoch_loss}, char_acc: {running / (data_test_size * out.size(1))}, accuracy: {epoch_acc}, CER: {err / data_test_size}')\n",
        "            scheduler.step(epoch_loss)\n",
        "    return model"
      ],
      "metadata": {
        "id": "2ls2kMiOViFK"
      },
      "execution_count": null,
      "outputs": []
    },
    {
      "cell_type": "code",
      "source": [
        "model_train(label_smoothing=1e-2, weight_decay=1e-3, num_epochs=30)"
      ],
      "metadata": {
        "colab": {
          "base_uri": "https://localhost:8080/"
        },
        "id": "QlaQ4t6iHJra",
        "outputId": "d6225639-da43-469b-cc42-53499cc57e2d"
      },
      "execution_count": null,
      "outputs": [
        {
          "output_type": "stream",
          "name": "stderr",
          "text": [
            "100%|██████████| 782/782 [07:36<00:00,  1.71it/s]\n"
          ]
        },
        {
          "output_type": "stream",
          "name": "stdout",
          "text": [
            "Epoch 1 train: loss: 1.8567851781845093,  char_acc: 0.518879771232605, accuracy: 0.006472075779006472, CER: 0.0018750018207356334\n"
          ]
        },
        {
          "output_type": "stream",
          "name": "stderr",
          "text": [
            "100%|██████████| 40/40 [00:13<00:00,  2.91it/s]\n"
          ]
        },
        {
          "output_type": "stream",
          "name": "stdout",
          "text": [
            "Epoch 1 val: loss: 0.7625036239624023, char_acc: 0.8160673379898071, accuracy: 0.03701798751303702, CER: 0.0007356948917731643\n"
          ]
        },
        {
          "output_type": "stream",
          "name": "stderr",
          "text": [
            "100%|██████████| 782/782 [07:26<00:00,  1.75it/s]\n"
          ]
        },
        {
          "output_type": "stream",
          "name": "stdout",
          "text": [
            "Epoch 2 train: loss: 0.8289841413497925,  char_acc: 0.7943872809410095, accuracy: 0.05313031303130313, CER: 0.0008015538332983851\n"
          ]
        },
        {
          "output_type": "stream",
          "name": "stderr",
          "text": [
            "100%|██████████| 40/40 [00:13<00:00,  2.88it/s]\n"
          ]
        },
        {
          "output_type": "stream",
          "name": "stdout",
          "text": [
            "Epoch 2 val: loss: 0.4584707021713257, char_acc: 0.9005900621414185, accuracy: 0.07856499935707857, CER: 0.0003970635880250484\n"
          ]
        },
        {
          "output_type": "stream",
          "name": "stderr",
          "text": [
            "100%|██████████| 782/782 [07:29<00:00,  1.74it/s]\n"
          ]
        },
        {
          "output_type": "stream",
          "name": "stdout",
          "text": [
            "Epoch 3 train: loss: 0.635337233543396,  char_acc: 0.8425799608230591, accuracy: 0.07535967882502535, CER: 0.0006137409363873303\n"
          ]
        },
        {
          "output_type": "stream",
          "name": "stderr",
          "text": [
            "100%|██████████| 40/40 [00:13<00:00,  2.88it/s]\n"
          ]
        },
        {
          "output_type": "stream",
          "name": "stdout",
          "text": [
            "Epoch 3 val: loss: 0.37493717670440674, char_acc: 0.9209206700325012, accuracy: 0.09156629948709157, CER: 0.0003149012627545744\n"
          ]
        },
        {
          "output_type": "stream",
          "name": "stderr",
          "text": [
            "100%|██████████| 782/782 [07:34<00:00,  1.72it/s]\n"
          ]
        },
        {
          "output_type": "stream",
          "name": "stdout",
          "text": [
            "Epoch 4 train: loss: 0.5687251091003418,  char_acc: 0.860406756401062, accuracy: 0.0825046790393325, CER: 0.0005444237031042576\n"
          ]
        },
        {
          "output_type": "stream",
          "name": "stderr",
          "text": [
            "100%|██████████| 40/40 [00:14<00:00,  2.85it/s]\n"
          ]
        },
        {
          "output_type": "stream",
          "name": "stdout",
          "text": [
            "Epoch 4 val: loss: 0.34645402431488037, char_acc: 0.9281642436981201, accuracy: 0.09618104667609619, CER: 0.00028492434648796916\n"
          ]
        },
        {
          "output_type": "stream",
          "name": "stderr",
          "text": [
            "100%|██████████| 782/782 [07:33<00:00,  1.72it/s]\n"
          ]
        },
        {
          "output_type": "stream",
          "name": "stdout",
          "text": [
            "Epoch 5 train: loss: 0.5318421125411987,  char_acc: 0.8709792494773865, accuracy: 0.08667009558098666, CER: 0.0005032974295318127\n"
          ]
        },
        {
          "output_type": "stream",
          "name": "stderr",
          "text": [
            "100%|██████████| 40/40 [00:13<00:00,  2.88it/s]\n"
          ]
        },
        {
          "output_type": "stream",
          "name": "stdout",
          "text": [
            "Epoch 5 val: loss: 0.33238011598587036, char_acc: 0.9330790042877197, accuracy: 0.09858128670009858, CER: 0.0002666226355358958\n"
          ]
        },
        {
          "output_type": "stream",
          "name": "stderr",
          "text": [
            "100%|██████████| 782/782 [07:44<00:00,  1.68it/s]\n"
          ]
        },
        {
          "output_type": "stream",
          "name": "stdout",
          "text": [
            "Epoch 6 train: loss: 0.5030744075775146,  char_acc: 0.8791272044181824, accuracy: 0.08928964325003928, CER: 0.0004714971873909235\n"
          ]
        },
        {
          "output_type": "stream",
          "name": "stderr",
          "text": [
            "100%|██████████| 40/40 [00:14<00:00,  2.83it/s]\n"
          ]
        },
        {
          "output_type": "stream",
          "name": "stdout",
          "text": [
            "Epoch 6 val: loss: 0.3111875057220459, char_acc: 0.9384509921073914, accuracy: 0.10206734959210206, CER: 0.0002493367064744234\n"
          ]
        },
        {
          "output_type": "stream",
          "name": "stderr",
          "text": [
            "100%|██████████| 782/782 [07:39<00:00,  1.70it/s]\n"
          ]
        },
        {
          "output_type": "stream",
          "name": "stdout",
          "text": [
            "Epoch 7 train: loss: 0.4838995635509491,  char_acc: 0.8845641613006592, accuracy: 0.09135770719929136, CER: 0.00045025479630567133\n"
          ]
        },
        {
          "output_type": "stream",
          "name": "stderr",
          "text": [
            "100%|██████████| 40/40 [00:14<00:00,  2.82it/s]\n"
          ]
        },
        {
          "output_type": "stream",
          "name": "stdout",
          "text": [
            "Epoch 7 val: loss: 0.3074006140232086, char_acc: 0.9395082592964172, accuracy: 0.10332461817610332, CER: 0.00024240516358986497\n"
          ]
        },
        {
          "output_type": "stream",
          "name": "stderr",
          "text": [
            "100%|██████████| 782/782 [07:39<00:00,  1.70it/s]\n"
          ]
        },
        {
          "output_type": "stream",
          "name": "stdout",
          "text": [
            "Epoch 8 train: loss: 0.4709721803665161,  char_acc: 0.8883402943611145, accuracy: 0.0927942794279428, CER: 0.0004356029094196856\n"
          ]
        },
        {
          "output_type": "stream",
          "name": "stderr",
          "text": [
            "100%|██████████| 40/40 [00:13<00:00,  2.87it/s]\n"
          ]
        },
        {
          "output_type": "stream",
          "name": "stdout",
          "text": [
            "Epoch 8 val: loss: 0.29945072531700134, char_acc: 0.9421370625495911, accuracy: 0.10436757961510437, CER: 0.000229334706091322\n"
          ]
        },
        {
          "output_type": "stream",
          "name": "stderr",
          "text": [
            "100%|██████████| 782/782 [07:27<00:00,  1.75it/s]\n"
          ]
        },
        {
          "output_type": "stream",
          "name": "stdout",
          "text": [
            "Epoch 9 train: loss: 0.45876970887184143,  char_acc: 0.8919827938079834, accuracy: 0.09381366708099381, CER: 0.00042141301673837006\n"
          ]
        },
        {
          "output_type": "stream",
          "name": "stderr",
          "text": [
            "100%|██████████| 40/40 [00:13<00:00,  2.92it/s]\n"
          ]
        },
        {
          "output_type": "stream",
          "name": "stdout",
          "text": [
            "Epoch 9 val: loss: 0.30085158348083496, char_acc: 0.941165566444397, accuracy: 0.10396753961110397, CER: 0.0002376688498770818\n"
          ]
        },
        {
          "output_type": "stream",
          "name": "stderr",
          "text": [
            "100%|██████████| 782/782 [07:30<00:00,  1.73it/s]\n"
          ]
        },
        {
          "output_type": "stream",
          "name": "stdout",
          "text": [
            "Epoch 10 train: loss: 0.4473724663257599,  char_acc: 0.8952316641807556, accuracy: 0.09501735887874502, CER: 0.00040875450940802693\n"
          ]
        },
        {
          "output_type": "stream",
          "name": "stderr",
          "text": [
            "100%|██████████| 40/40 [00:13<00:00,  2.94it/s]\n"
          ]
        },
        {
          "output_type": "stream",
          "name": "stdout",
          "text": [
            "Epoch 10 val: loss: 0.2925727367401123, char_acc: 0.9435943961143494, accuracy: 0.10502478819310503, CER: 0.00022470623662229627\n"
          ]
        },
        {
          "output_type": "stream",
          "name": "stderr",
          "text": [
            "100%|██████████| 782/782 [07:27<00:00,  1.75it/s]\n"
          ]
        },
        {
          "output_type": "stream",
          "name": "stdout",
          "text": [
            "Epoch 11 train: loss: 0.46112462878227234,  char_acc: 0.8921034932136536, accuracy: 0.09319003328904318, CER: 0.00042118324199691415\n"
          ]
        },
        {
          "output_type": "stream",
          "name": "stderr",
          "text": [
            "100%|██████████| 40/40 [00:13<00:00,  2.90it/s]\n"
          ]
        },
        {
          "output_type": "stream",
          "name": "stdout",
          "text": [
            "Epoch 11 val: loss: 0.2790398895740509, char_acc: 0.948051929473877, accuracy: 0.10819653393910819, CER: 0.0002080788544844836\n"
          ]
        },
        {
          "output_type": "stream",
          "name": "stderr",
          "text": [
            "100%|██████████| 782/782 [07:33<00:00,  1.72it/s]\n"
          ]
        },
        {
          "output_type": "stream",
          "name": "stdout",
          "text": [
            "Epoch 12 train: loss: 0.43275952339172363,  char_acc: 0.8995749950408936, accuracy: 0.09675038932464675, CER: 0.00039180615567602217\n"
          ]
        },
        {
          "output_type": "stream",
          "name": "stderr",
          "text": [
            "100%|██████████| 40/40 [00:13<00:00,  2.87it/s]\n"
          ]
        },
        {
          "output_type": "stream",
          "name": "stdout",
          "text": [
            "Epoch 12 val: loss: 0.2794395983219147, char_acc: 0.9480233788490295, accuracy: 0.10848227679910848, CER: 0.00021093628311064094\n"
          ]
        },
        {
          "output_type": "stream",
          "name": "stderr",
          "text": [
            "100%|██████████| 782/782 [07:27<00:00,  1.75it/s]\n"
          ]
        },
        {
          "output_type": "stream",
          "name": "stdout",
          "text": [
            "Epoch 13 train: loss: 0.4286563992500305,  char_acc: 0.9008393883705139, accuracy: 0.09716471647164716, CER: 0.00038687893538735807\n"
          ]
        },
        {
          "output_type": "stream",
          "name": "stderr",
          "text": [
            "100%|██████████| 40/40 [00:16<00:00,  2.49it/s]\n"
          ]
        },
        {
          "output_type": "stream",
          "name": "stdout",
          "text": [
            "Epoch 13 val: loss: 0.27603912353515625, char_acc: 0.949223518371582, accuracy: 0.10921092109210921, CER: 0.00020350255363155156\n"
          ]
        },
        {
          "output_type": "stream",
          "name": "stderr",
          "text": [
            "100%|██████████| 782/782 [07:30<00:00,  1.74it/s]\n"
          ]
        },
        {
          "output_type": "stream",
          "name": "stdout",
          "text": [
            "Epoch 14 train: loss: 0.4223909378051758,  char_acc: 0.9024723768234253, accuracy: 0.09763904961924764, CER: 0.00038049707654863596\n"
          ]
        },
        {
          "output_type": "stream",
          "name": "stderr",
          "text": [
            "100%|██████████| 40/40 [00:15<00:00,  2.57it/s]\n"
          ]
        },
        {
          "output_type": "stream",
          "name": "stdout",
          "text": [
            "Epoch 14 val: loss: 0.2787240147590637, char_acc: 0.9483948349952698, accuracy: 0.10866800965810867, CER: 0.00020679523004218936\n"
          ]
        },
        {
          "output_type": "stream",
          "name": "stderr",
          "text": [
            "100%|██████████| 782/782 [07:25<00:00,  1.76it/s]\n"
          ]
        },
        {
          "output_type": "stream",
          "name": "stdout",
          "text": [
            "Epoch 15 train: loss: 0.42099496722221375,  char_acc: 0.9029895663261414, accuracy: 0.0978033517637478, CER: 0.0003783924912568182\n"
          ]
        },
        {
          "output_type": "stream",
          "name": "stderr",
          "text": [
            "100%|██████████| 40/40 [00:13<00:00,  2.91it/s]\n"
          ]
        },
        {
          "output_type": "stream",
          "name": "stdout",
          "text": [
            "Epoch 15 val: loss: 0.28025251626968384, char_acc: 0.9475519061088562, accuracy: 0.10839655394110839, CER: 0.00020835042232647538\n"
          ]
        },
        {
          "output_type": "stream",
          "name": "stderr",
          "text": [
            "100%|██████████| 782/782 [07:24<00:00,  1.76it/s]\n"
          ]
        },
        {
          "output_type": "stream",
          "name": "stdout",
          "text": [
            "Epoch 16 train: loss: 0.4165715277194977,  char_acc: 0.9041961431503296, accuracy: 0.09827911362564828, CER: 0.00037372848601080477\n"
          ]
        },
        {
          "output_type": "stream",
          "name": "stderr",
          "text": [
            "100%|██████████| 40/40 [00:13<00:00,  2.90it/s]\n"
          ]
        },
        {
          "output_type": "stream",
          "name": "stdout",
          "text": [
            "Epoch 16 val: loss: 0.2838301956653595, char_acc: 0.9462375044822693, accuracy: 0.10762504821910762, CER: 0.0002133174566552043\n"
          ]
        },
        {
          "output_type": "stream",
          "name": "stderr",
          "text": [
            "100%|██████████| 782/782 [07:25<00:00,  1.76it/s]\n"
          ]
        },
        {
          "output_type": "stream",
          "name": "stdout",
          "text": [
            "Epoch 17 train: loss: 0.4124135673046112,  char_acc: 0.9050226807594299, accuracy: 0.09847556184189847, CER: 0.0003707066352944821\n"
          ]
        },
        {
          "output_type": "stream",
          "name": "stderr",
          "text": [
            "100%|██████████| 40/40 [00:14<00:00,  2.77it/s]\n"
          ]
        },
        {
          "output_type": "stream",
          "name": "stdout",
          "text": [
            "Epoch 17 val: loss: 0.28496626019477844, char_acc: 0.9456660151481628, accuracy: 0.10653922535110653, CER: 0.00021661390201188624\n"
          ]
        },
        {
          "output_type": "stream",
          "name": "stderr",
          "text": [
            "100%|██████████| 782/782 [07:25<00:00,  1.76it/s]\n"
          ]
        },
        {
          "output_type": "stream",
          "name": "stdout",
          "text": [
            "Epoch 18 train: loss: 0.4094652831554413,  char_acc: 0.9061884880065918, accuracy: 0.09883345477404884, CER: 0.00036614114651456475\n"
          ]
        },
        {
          "output_type": "stream",
          "name": "stderr",
          "text": [
            "100%|██████████| 40/40 [00:15<00:00,  2.54it/s]\n"
          ]
        },
        {
          "output_type": "stream",
          "name": "stdout",
          "text": [
            "Epoch 18 val: loss: 0.27151376008987427, char_acc: 0.9497092366218567, accuracy: 0.10948237680910948, CER: 0.00020255746494513005\n"
          ]
        },
        {
          "output_type": "stream",
          "name": "stderr",
          "text": [
            "100%|██████████| 782/782 [07:29<00:00,  1.74it/s]\n"
          ]
        },
        {
          "output_type": "stream",
          "name": "stdout",
          "text": [
            "Epoch 19 train: loss: 0.4056735932826996,  char_acc: 0.907252848148346, accuracy: 0.09921277842069921, CER: 0.0003618175978772342\n"
          ]
        },
        {
          "output_type": "stream",
          "name": "stderr",
          "text": [
            "100%|██████████| 40/40 [00:13<00:00,  2.89it/s]\n"
          ]
        },
        {
          "output_type": "stream",
          "name": "stdout",
          "text": [
            "Epoch 19 val: loss: 0.2796367108821869, char_acc: 0.9483519792556763, accuracy: 0.10819653393910819, CER: 0.00020696267893072218\n"
          ]
        },
        {
          "output_type": "stream",
          "name": "stderr",
          "text": [
            "100%|██████████| 782/782 [07:25<00:00,  1.76it/s]\n"
          ]
        },
        {
          "output_type": "stream",
          "name": "stdout",
          "text": [
            "Epoch 20 train: loss: 0.40058350563049316,  char_acc: 0.9086322784423828, accuracy: 0.09987855928449987, CER: 0.0003566835366655141\n"
          ]
        },
        {
          "output_type": "stream",
          "name": "stderr",
          "text": [
            "100%|██████████| 40/40 [00:13<00:00,  2.90it/s]\n"
          ]
        },
        {
          "output_type": "stream",
          "name": "stdout",
          "text": [
            "Epoch 20 val: loss: 0.2658836543560028, char_acc: 0.9522380828857422, accuracy: 0.11046818967611047, CER: 0.00019099752535112202\n"
          ]
        },
        {
          "output_type": "stream",
          "name": "stderr",
          "text": [
            "100%|██████████| 782/782 [07:31<00:00,  1.73it/s]\n"
          ]
        },
        {
          "output_type": "stream",
          "name": "stdout",
          "text": [
            "Epoch 21 train: loss: 0.4019123911857605,  char_acc: 0.9082808494567871, accuracy: 0.09982998299829983, CER: 0.00035791919799521565\n"
          ]
        },
        {
          "output_type": "stream",
          "name": "stderr",
          "text": [
            "100%|██████████| 40/40 [00:13<00:00,  2.89it/s]\n"
          ]
        },
        {
          "output_type": "stream",
          "name": "stdout",
          "text": [
            "Epoch 21 val: loss: 0.267156720161438, char_acc: 0.9517523050308228, accuracy: 0.11048247681911048, CER: 0.00019289502233732492\n"
          ]
        },
        {
          "output_type": "stream",
          "name": "stderr",
          "text": [
            "100%|██████████| 782/782 [07:26<00:00,  1.75it/s]\n"
          ]
        },
        {
          "output_type": "stream",
          "name": "stdout",
          "text": [
            "Epoch 22 train: loss: 0.3971936106681824,  char_acc: 0.9094659686088562, accuracy: 0.10013429914420013, CER: 0.00035321267205290496\n"
          ]
        },
        {
          "output_type": "stream",
          "name": "stderr",
          "text": [
            "100%|██████████| 40/40 [00:13<00:00,  2.90it/s]\n"
          ]
        },
        {
          "output_type": "stream",
          "name": "stdout",
          "text": [
            "Epoch 22 val: loss: 0.2635924816131592, char_acc: 0.952580988407135, accuracy: 0.1112111211121112, CER: 0.00019139560754410923\n"
          ]
        },
        {
          "output_type": "stream",
          "name": "stderr",
          "text": [
            "100%|██████████| 782/782 [07:28<00:00,  1.74it/s]\n"
          ]
        },
        {
          "output_type": "stream",
          "name": "stdout",
          "text": [
            "Epoch 23 train: loss: 0.3940209746360779,  char_acc: 0.910578191280365, accuracy: 0.10062363379195062, CER: 0.00034887457150034606\n"
          ]
        },
        {
          "output_type": "stream",
          "name": "stderr",
          "text": [
            "100%|██████████| 40/40 [00:13<00:00,  2.93it/s]\n"
          ]
        },
        {
          "output_type": "stream",
          "name": "stdout",
          "text": [
            "Epoch 23 val: loss: 0.264801949262619, char_acc: 0.9522380828857422, accuracy: 0.11118254682611119, CER: 0.0001927350676851347\n"
          ]
        },
        {
          "output_type": "stream",
          "name": "stderr",
          "text": [
            "100%|██████████| 782/782 [07:28<00:00,  1.74it/s]\n"
          ]
        },
        {
          "output_type": "stream",
          "name": "stdout",
          "text": [
            "Epoch 24 train: loss: 0.3927193582057953,  char_acc: 0.9108639359474182, accuracy: 0.10073793093595074, CER: 0.00034787729964591563\n"
          ]
        },
        {
          "output_type": "stream",
          "name": "stderr",
          "text": [
            "100%|██████████| 40/40 [00:13<00:00,  2.90it/s]\n"
          ]
        },
        {
          "output_type": "stream",
          "name": "stdout",
          "text": [
            "Epoch 24 val: loss: 0.26273638010025024, char_acc: 0.9527952671051025, accuracy: 0.11158258683011159, CER: 0.00018971762619912624\n"
          ]
        },
        {
          "output_type": "stream",
          "name": "stderr",
          "text": [
            "100%|██████████| 782/782 [07:31<00:00,  1.73it/s]\n"
          ]
        },
        {
          "output_type": "stream",
          "name": "stdout",
          "text": [
            "Epoch 25 train: loss: 0.39044690132141113,  char_acc: 0.9115097522735596, accuracy: 0.10091223408055092, CER: 0.00034537925967015326\n"
          ]
        },
        {
          "output_type": "stream",
          "name": "stderr",
          "text": [
            "100%|██████████| 40/40 [00:13<00:00,  2.90it/s]\n"
          ]
        },
        {
          "output_type": "stream",
          "name": "stdout",
          "text": [
            "Epoch 25 val: loss: 0.2574233114719391, char_acc: 0.9540525674819946, accuracy: 0.11215407255011216, CER: 0.00018480642756912857\n"
          ]
        },
        {
          "output_type": "stream",
          "name": "stderr",
          "text": [
            "100%|██████████| 782/782 [07:26<00:00,  1.75it/s]\n"
          ]
        },
        {
          "output_type": "stream",
          "name": "stdout",
          "text": [
            "Epoch 26 train: loss: 0.3892573118209839,  char_acc: 0.912127673625946, accuracy: 0.10116083036875116, CER: 0.0003429107600823045\n"
          ]
        },
        {
          "output_type": "stream",
          "name": "stderr",
          "text": [
            "100%|██████████| 40/40 [00:13<00:00,  2.90it/s]\n"
          ]
        },
        {
          "output_type": "stream",
          "name": "stdout",
          "text": [
            "Epoch 26 val: loss: 0.2669270634651184, char_acc: 0.9518951773643494, accuracy: 0.11035389253211035, CER: 0.00019413027621340007\n"
          ]
        },
        {
          "output_type": "stream",
          "name": "stderr",
          "text": [
            "100%|██████████| 782/782 [07:28<00:00,  1.74it/s]\n"
          ]
        },
        {
          "output_type": "stream",
          "name": "stdout",
          "text": [
            "Epoch 27 train: loss: 0.3875270187854767,  char_acc: 0.9125733971595764, accuracy: 0.10139513951395139, CER: 0.00034144692472182214\n"
          ]
        },
        {
          "output_type": "stream",
          "name": "stderr",
          "text": [
            "100%|██████████| 40/40 [00:13<00:00,  2.89it/s]\n"
          ]
        },
        {
          "output_type": "stream",
          "name": "stdout",
          "text": [
            "Epoch 27 val: loss: 0.26594510674476624, char_acc: 0.9522380828857422, accuracy: 0.11092537825211092, CER: 0.00019189418526366353\n"
          ]
        },
        {
          "output_type": "stream",
          "name": "stderr",
          "text": [
            "100%|██████████| 782/782 [07:29<00:00,  1.74it/s]\n"
          ]
        },
        {
          "output_type": "stream",
          "name": "stdout",
          "text": [
            "Epoch 28 train: loss: 0.3859250247478485,  char_acc: 0.9129284620285034, accuracy: 0.1012965582272513, CER: 0.0003396820102352649\n"
          ]
        },
        {
          "output_type": "stream",
          "name": "stderr",
          "text": [
            "100%|██████████| 40/40 [00:13<00:00,  2.93it/s]\n"
          ]
        },
        {
          "output_type": "stream",
          "name": "stdout",
          "text": [
            "Epoch 28 val: loss: 0.26369455456733704, char_acc: 0.9524524211883545, accuracy: 0.11062534824911062, CER: 0.00019469954713713378\n"
          ]
        },
        {
          "output_type": "stream",
          "name": "stderr",
          "text": [
            "100%|██████████| 782/782 [07:29<00:00,  1.74it/s]\n"
          ]
        },
        {
          "output_type": "stream",
          "name": "stdout",
          "text": [
            "Epoch 29 train: loss: 0.38409167528152466,  char_acc: 0.9135385155677795, accuracy: 0.10182661123255182, CER: 0.000337468198267743\n"
          ]
        },
        {
          "output_type": "stream",
          "name": "stderr",
          "text": [
            "100%|██████████| 40/40 [00:15<00:00,  2.60it/s]\n"
          ]
        },
        {
          "output_type": "stream",
          "name": "stdout",
          "text": [
            "Epoch 29 val: loss: 0.2619416117668152, char_acc: 0.9530239105224609, accuracy: 0.11132541825611132, CER: 0.00018798380915541202\n"
          ]
        },
        {
          "output_type": "stream",
          "name": "stderr",
          "text": [
            "100%|██████████| 782/782 [07:28<00:00,  1.74it/s]\n"
          ]
        },
        {
          "output_type": "stream",
          "name": "stdout",
          "text": [
            "Epoch 30 train: loss: 0.3957415819168091,  char_acc: 0.9103460311889648, accuracy: 0.10028431414570028, CER: 0.00034999812487512827\n"
          ]
        },
        {
          "output_type": "stream",
          "name": "stderr",
          "text": [
            "100%|██████████| 40/40 [00:13<00:00,  2.90it/s]\n"
          ]
        },
        {
          "output_type": "stream",
          "name": "stdout",
          "text": [
            "Epoch 30 val: loss: 0.26697391271591187, char_acc: 0.9521952271461487, accuracy: 0.11078250682211079, CER: 0.00019200582755729556\n"
          ]
        },
        {
          "output_type": "execute_result",
          "data": {
            "text/plain": [
              "Model(\n",
              "  (conv1): Sequential(\n",
              "    (0): Conv2d(3, 7, kernel_size=(3, 3), stride=(1, 1), padding=(1, 1), bias=False)\n",
              "    (1): BatchNorm2d(7, eps=1e-05, momentum=0.1, affine=True, track_running_stats=True)\n",
              "    (2): ReLU(inplace=True)\n",
              "  )\n",
              "  (maxpool1): MaxPool2d(kernel_size=2, stride=2, padding=0, dilation=1, ceil_mode=False)\n",
              "  (conv2): Sequential(\n",
              "    (0): Conv2d(7, 7, kernel_size=(3, 3), stride=(1, 1), padding=(1, 1), bias=False)\n",
              "    (1): BatchNorm2d(7, eps=1e-05, momentum=0.1, affine=True, track_running_stats=True)\n",
              "    (2): ReLU(inplace=True)\n",
              "  )\n",
              "  (maxpool2): MaxPool2d(kernel_size=2, stride=2, padding=0, dilation=1, ceil_mode=False)\n",
              "  (fc1): Sequential(\n",
              "    (0): Linear(in_features=512, out_features=32, bias=True)\n",
              "    (1): ReLU(inplace=True)\n",
              "  )\n",
              "  (gru1): GRU(32, 512)\n",
              "  (gru1_b): GRU(32, 512)\n",
              "  (gru2): GRU(512, 512)\n",
              "  (gru2_b): GRU(512, 512)\n",
              "  (fc2): Sequential(\n",
              "    (0): Linear(in_features=1024, out_features=66, bias=True)\n",
              "    (1): ReLU(inplace=True)\n",
              "  )\n",
              ")"
            ]
          },
          "metadata": {},
          "execution_count": 30
        }
      ]
    },
    {
      "cell_type": "markdown",
      "source": [
        "# Подведение итогов\n",
        "\n",
        "Были выполнены все условия предложенной работы, за исключением анализа ошибок.\n",
        "\n",
        "Максильные результаты по метрикам не были достигнуты, поскольку была проведена только часть экспериментов. Улчшение качества можно получить потем более точного подбора аугментаций (в работе был применен Autoaugment -- он преобразует изображение только в цветовой палитре). \n",
        "\n",
        "Также можно провести эксперименты с масштабированием применяемой архитектуры, посмотреть на результаты: с разными шедулерами, TTA, ema, оптимизаторами (к ним можно запустить поиск гиперпарамтров), L2, докинуть на полносвязные слои Dropout.\n"
      ],
      "metadata": {
        "id": "NJ89iydj6-Kx"
      }
    },
    {
      "cell_type": "code",
      "source": [],
      "metadata": {
        "id": "SVd6ErdN-Plw"
      },
      "execution_count": null,
      "outputs": []
    }
  ]
}